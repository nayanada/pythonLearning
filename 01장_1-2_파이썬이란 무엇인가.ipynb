{
 "cells": [
  {
   "cell_type": "markdown",
   "metadata": {},
   "source": [
    "# 01-3 파이썬 설치하기\n",
    "\n",
    "이제 실습을 위해 컴퓨터에 파이썬을 설치해 보자. 이 책에서는 윈도우와 리눅스에서 설치하는 방법만 다룬다. 다른 시스템을 이용할 경우 파이썬 홈페이지(http://www.python.org)의 설명을 참고하도록 하자.\n",
    "\n",
    "# 윈도우에서 파이썬 설치하기\n",
    "\n",
    "윈도우의 경우에는 설치가 정말 쉽다.\n",
    "\n",
    "`1.` 우선 파이썬 공식 홈페이지의 다운로드 페이지(http://www.python.org/downloads)에서 윈도우용 파이썬 언어 패키지를 다운로드한다. 다음 화면에서 Python 3.x로 시작하는 버전 중 가장 최근의 윈도우 인스톨러를 다운로드하도록 하자(이 글을 작성하는 시점의 최신 버전은 3.5.1이다.).\n",
    "\n",
    "※ 만약 파이썬 2.7 버전을 설치할 경우에는 Python 2.7용 인스톨러 파일을 받아서 설치하면 된다.\n",
    "\n",
    "`2.` 인스톨러를 실행한 후에 \"Install Now\"를 선택하면 바로 설치가 진행된다.\n",
    "\n",
    "#### 파이썬이 어느 곳에서든지 실행될 수 있도록 \"Add Python 3.5 to PATH\" 옵션을 선택하도록 하자.\n",
    "\n",
    "※ \"Add Python 3.5 to PATH\" 옵션을 누락할 경우 이후 설명되는 예제에서 오류가 발생할 수 있다. 만약 python이 설치되는 경로와 PATH에 대한 사전지식이 있는 사용자라면 이 옵션을 생략해도 된다.\n",
    "\n",
    "\n",
    "`3.` 설치가 완료되면 [close]를 클릭하여 종료한다.\n",
    "\n",
    "파이썬이 정상적으로 설치되었다면 오른쪽 그림과 같이 프로그램 메뉴에서 확인할 수 있을 것이다.\n",
    "\n",
    "[시작 → 모든 프로그램(모든 앱) → Python 3.5]"
   ]
  },
  {
   "cell_type": "markdown",
   "metadata": {},
   "source": [
    "# 리눅스에서 파이썬 설치\n",
    "\n",
    "리눅스 사용자라면 기본적으로 파이썬이 설치되어 있을 것이다.\n",
    "\n",
    "> $ python -V\n",
    "\n",
    "리눅스 셸에서 위의 명령어를 입력하면 파이썬 버전을 확인할 수 있다.\n",
    "\n",
    "만약 파이썬이 기본으로 설치되어 있지 않다면 소스를 컴파일하여 설치한다. 리눅스의 경우 배포본별로 여러 가지 설치 방법이 있을 수 있는데, 소스를 컴파일하여 설치하는 것이 모든 배포본에서 사용할 수 있는 가장 일반적인 방법이다.\n",
    "\n",
    "파이썬 공식 홈페이지의 다운로드 페이지(http://www.python.org/download)에 접속해 \"Python-3.X.X.tgz\" 를 다운로드한다. 이 책에서는 Python-3.5.1 버전을 사용한다.\n",
    "\n",
    "먼저 터미널에 다음 문장을 입력하여 다운로드한 파일의 압축을 푼다.\n",
    "\n",
    "> $ tar xvzf Python-3.5.1.tgz\n",
    "\n",
    "그런 다음 해당 디렉터리로 이동한다.\n",
    "\n",
    "> $ cd Python-3.5.1\n",
    "\n",
    "Makefile 파일을 만들기 위해서 configure를 실행한다.\n",
    "\n",
    "> $ ./configure\n",
    "\n",
    "파이썬 소스를 컴파일한다.\n",
    "\n",
    "> $ make\n",
    "\n",
    "루트 계정으로 설치한다.\n",
    "> <p>\n",
    "$ su -\n",
    "</p>\n",
    "\n",
    "> <p>\n",
    "$ make install\n",
    "</p>\n",
    "\n",
    "파이썬 2.7 버전을 설치할 경우 Python-3.5.1.tgz가 아닌 Python-2.7.tgz 파일을 다운로드해 동일한 방법으로 설치하면 된다."
   ]
  },
  {
   "cell_type": "markdown",
   "metadata": {},
   "source": [
    "# 01-5 파이썬 둘러보기\n",
    "\n",
    "도대체 파이썬이라는 언어는 어떻게 생겼는지, 간단한 코드를 작성하며 알아보자. 파이썬을 자세히 탐구하기 전에 전체적인 모습을 죽 훑어보는 것은 매우 유익한 일이 될 것이다.\n",
    "\n",
    "\"백문이 불여일견, 백견이 불여일타\"라고 했다. 직접 따라 해보자.\n",
    "\n",
    "# 파이썬 기초 실습 준비하기\n",
    "\n",
    "파이썬 프로그래밍 실습을 시작하기 전에 기초적인 것을 준비해 보자.\n",
    "\n",
    "[시작] 메뉴에서 [프로그램 → Python 3.X → Python 3.X(XX-bit)]을 선택하면 다음과 같은 화면이 나타난다.\n",
    "\n",
    "> <p> Python 3.5.1 (v3.5.1:37a07cee5969, Dec 6 2015, 01:54:25) [MSC v.1900 64 bit (AM...\n",
    "Type \"help\", \"copyright\", \"credits\" or \"license\" for more information. </p>\n",
    "> `>>>`\n",
    "\n",
    "위와 같은 것을 대화형 인터프리터라고 하는데, 앞으로 이 책에서는 이 인터프리터로 파이썬 프로그래밍의 기초적인 사항들에 대해 설명할 것이다.\n",
    "\n",
    "※ 대화형 인터프리터는 파이썬 셸(Python shell)이라고도 한다. 3개의 꺾은 괄호(>>>)는 프롬프트(prompt)라고 한다.\n",
    "\n",
    "대화형 인터프리터를 종료할 때는 Ctrl+Z 를 누른다 (유닉스 계열에서는 Ctrl+D). 또는 다음의 예와 같이 sys 모듈을 사용하여 종료할 수도 있다.\n",
    "\n",
    "> import sys <br>\n",
    "> sys.exit()"
   ]
  },
  {
   "cell_type": "markdown",
   "metadata": {},
   "source": [
    "# 파이썬 기초 문법 따라 해보기\n",
    "\n",
    "여기서 소개하는 내용들은 나중에 다시 자세하게 다룰 것이니 이해가 되지 않는다고 절망하거나 너무 고심하지 말도록 하자.\n",
    "\n",
    "파이썬 인터프리터를 실행하여 다음을 직접 입력해 보자.\n",
    "\n",
    "### 사칙연산\n",
    "\n",
    "1 더하기(+) 2는 3이라는 값을 출력해 보자. 보통 계산기 사용하듯 더하기 기호만 넣어 주면 된다."
   ]
  },
  {
   "cell_type": "code",
   "execution_count": 5,
   "metadata": {
    "collapsed": false
   },
   "outputs": [
    {
     "data": {
      "text/plain": [
       "3"
      ]
     },
     "execution_count": 5,
     "metadata": {},
     "output_type": "execute_result"
    }
   ],
   "source": [
    ">>> 1 + 2"
   ]
  },
  {
   "cell_type": "markdown",
   "metadata": {},
   "source": [
    "나눗셈(/)과 곱셈(`*`) 역시 예상한 대로 결과값을 보여준다."
   ]
  },
  {
   "cell_type": "code",
   "execution_count": 8,
   "metadata": {
    "collapsed": false
   },
   "outputs": [
    {
     "name": "stdout",
     "output_type": "stream",
     "text": [
      "1.25\n",
      "27\n"
     ]
    }
   ],
   "source": [
    ">>> print 3 / 2.4\n",
    ">>> print 3 * 9"
   ]
  },
  {
   "cell_type": "markdown",
   "metadata": {},
   "source": [
    "우리가 일반적으로 알고 있는 ÷ 기호나 × 기호가 아닌 것에 주의하자."
   ]
  },
  {
   "cell_type": "markdown",
   "metadata": {},
   "source": [
    "### 변수에 숫자 대입하고 계산하기"
   ]
  },
  {
   "cell_type": "code",
   "execution_count": 9,
   "metadata": {
    "collapsed": false
   },
   "outputs": [
    {
     "data": {
      "text/plain": [
       "3"
      ]
     },
     "execution_count": 9,
     "metadata": {},
     "output_type": "execute_result"
    }
   ],
   "source": [
    ">>> a = 1\n",
    ">>> b = 2\n",
    ">>> a + b"
   ]
  },
  {
   "cell_type": "markdown",
   "metadata": {},
   "source": [
    "a에 1을, b에 2를 대입한 다음 a와 b를 더하면 3이라는 결과값을 보여 준다."
   ]
  },
  {
   "cell_type": "markdown",
   "metadata": {},
   "source": [
    "### 변수에 문자 대입하고 출력하기"
   ]
  },
  {
   "cell_type": "code",
   "execution_count": 10,
   "metadata": {
    "collapsed": false
   },
   "outputs": [
    {
     "name": "stdout",
     "output_type": "stream",
     "text": [
      "Python\n"
     ]
    }
   ],
   "source": [
    ">>> a = \"Python\"\n",
    ">>> print(a)"
   ]
  },
  {
   "cell_type": "markdown",
   "metadata": {},
   "source": [
    "a라는 변수에 Python이라는 값을 대입한 다음 print(a) 라고 작성하면 a의 값을 출력한다.\n",
    "\n",
    "※ 파이썬은 대소문자를 구분한다. print를 PRINT로 쓰면 정의되지 않았다는 에러 메시지가 나온다."
   ]
  },
  {
   "cell_type": "markdown",
   "metadata": {},
   "source": [
    "#### [변수에 복소수도 넣을 수 있을까?]\n",
    "\n",
    "파이썬은 복소수도 지원한다"
   ]
  },
  {
   "cell_type": "code",
   "execution_count": 12,
   "metadata": {
    "collapsed": false
   },
   "outputs": [
    {
     "data": {
      "text/plain": [
       "(6+9j)"
      ]
     },
     "execution_count": 12,
     "metadata": {},
     "output_type": "execute_result"
    }
   ],
   "source": [
    ">>> a = 2 + 3j\n",
    ">>> b = 3\n",
    ">>> a * b"
   ]
  },
  {
   "cell_type": "markdown",
   "metadata": {},
   "source": [
    "변수 a에 2+3j라는 값을 대입하고, 변수 b에 3을 대입하였다. 여기서 2+3j란 복소수를 의미한다. 보통 우리는 고등학교 때 복소수를 표시할 때 알파벳 i를 이용해서 2 + 3i처럼 사용했지만 파이썬에서는 j를 사용한다. 위의 예는 2 + 3j 와 3을 곱하는 방법이다. 당연히 결과값으로 6+9j를 출력한다."
   ]
  },
  {
   "cell_type": "markdown",
   "metadata": {},
   "source": [
    "### 조건문 if\n",
    "\n",
    "다음은 간단한 조건문 if를 이용한 예제이다."
   ]
  },
  {
   "cell_type": "code",
   "execution_count": 13,
   "metadata": {
    "collapsed": false
   },
   "outputs": [
    {
     "name": "stdout",
     "output_type": "stream",
     "text": [
      "a is greater than 1\n"
     ]
    }
   ],
   "source": [
    ">>> a = 3\n",
    ">>> if a > 1:\n",
    "...   print(\"a is greater than 1\")"
   ]
  },
  {
   "cell_type": "markdown",
   "metadata": {},
   "source": [
    "※ print문 앞의 '...'은 아직 문장이 끝나지 않았음을 의미한다.\n",
    "\n",
    "위 예제는 a가 1보다 크면 \"a is greater than 1\"이라는 문장을 출력(print)하라는 뜻이다. 위 예제에서 a는 3이므로 1보다 크다. 따라서 두 번째 \"...\" 이후에 Enter키를 입력하면 if문이 종료되고 \"a is greater than 1\"이라는 문장이 출력된다.\n",
    "\n",
    "if a > 1: 다음 문장은 Tap 키 또는 Spacebar 키 4개를 이용해 반드시 들여쓰기 한 후에 print(\"a is greater than 1\")이라고 작성해야 한다. 들여쓰기 규칙에 대해서는 05장 제어문에서 자세하게 알아볼 것이다. 바로 뒤에 이어지는 반복문 for, while 예제도 마찬가지로 들여쓰기가 필요하다."
   ]
  },
  {
   "cell_type": "markdown",
   "metadata": {},
   "source": [
    "### 반복문 for\n",
    "\n",
    "다음은 for를 이용해서 [1, 2, 3]안의 값들을 하나씩 출력해 주는 것을 보여주는 예이다."
   ]
  },
  {
   "cell_type": "code",
   "execution_count": 14,
   "metadata": {
    "collapsed": false
   },
   "outputs": [
    {
     "name": "stdout",
     "output_type": "stream",
     "text": [
      "1\n",
      "2\n",
      "3\n"
     ]
    }
   ],
   "source": [
    ">>> for a in [1, 2, 3]:\n",
    "...   print(a)"
   ]
  },
  {
   "cell_type": "markdown",
   "metadata": {},
   "source": [
    "for문을 이용하면 실행해야 할 문장을 여러 번 반복해서 실행시킬 수 있다. 위의 예는 대괄호([ ]) 사이에 있는 값들을 하나씩 출력한다. 위 코드의 의미는 \"[1, 2, 3]이라는 리스트의 앞에서부터 하나씩 꺼내어 a라는 변수에 대입한 후 print(a)를 수행하라\"이다. 당연히 a에 차례로 1, 2, 3이라는 값이 대입되며 print(a)에 의해서 그 값이 차례대로 출력된다."
   ]
  },
  {
   "cell_type": "markdown",
   "metadata": {},
   "source": [
    "### 반복문 while\n",
    "\n",
    "다음은 while을 이용하는 예이다."
   ]
  },
  {
   "cell_type": "code",
   "execution_count": 15,
   "metadata": {
    "collapsed": false
   },
   "outputs": [
    {
     "name": "stdout",
     "output_type": "stream",
     "text": [
      "1\n",
      "2\n",
      "3\n"
     ]
    }
   ],
   "source": [
    ">>> i = 0\n",
    ">>> while i < 3:\n",
    "...     i=i+1\n",
    "...     print(i)"
   ]
  },
  {
   "cell_type": "markdown",
   "metadata": {},
   "source": [
    "while이라는 영어 단어는 \"~인 동안\"이란 뜻이다. for문과 마찬가지로 반복해서 문장을 수행할 수 있도록 해준다. 위의 예제는 i 값이 3보다 작은 동안 i=i+1과 print(i)를 수행하라는 말이다. i=i+1이라는 문장은 i의 값을 1씩 더하게 한다. i 값이 3보다 커지게 되면 while문을 빠져나가게 된다."
   ]
  },
  {
   "cell_type": "markdown",
   "metadata": {},
   "source": [
    "### 함수\n",
    "\n",
    "파이썬의 함수는 다음과 같은 형태이다."
   ]
  },
  {
   "cell_type": "code",
   "execution_count": 16,
   "metadata": {
    "collapsed": false
   },
   "outputs": [
    {
     "name": "stdout",
     "output_type": "stream",
     "text": [
      "7\n"
     ]
    }
   ],
   "source": [
    ">>> def sum(a, b):\n",
    "...     return a+b\n",
    ">>> print(sum(3,4))"
   ]
  },
  {
   "cell_type": "markdown",
   "metadata": {},
   "source": [
    "파이썬에서 def는 함수를 만들 때 사용하는 예약어이다. 위의 예제는 sum이라는 함수를 만들고 그 함수를 어떻게 사용하는지를 보여준다. sum(a, b)에서 a, b는 입력값이고, a+b는 결과값이다. 즉 3, 4가 입력으로 들어오면 3+4를 수행하고 그 결과값인 7을 돌려 준다.\n",
    "\n",
    "이렇게 해서 기초적인 파이썬 문법에 대해서 간략하게 알아보았다."
   ]
  },
  {
   "cell_type": "markdown",
   "metadata": {},
   "source": [
    "### 파이썬 프로그램을 작성할 수 있는 여러 가지 에디터\n",
    "\n",
    "이미 눈치챘을지 모르지만 파이썬 프로그램을 편하게 작성하기 위해서는 인터프리터보다는 에디터를 이용해서 작성하는 것이 좋다. 에디터란 문서를 편집할 수 있는 프로그래밍 툴을 말한다.\n",
    "\n",
    "에디터는 자신에게 익숙한 것을 사용하면 되는데, 아직 즐겨 사용하는 에디터가 마땅히 없는 독자에게 몇 가지 추천하고 싶은 에디터가 있다. 윈도우 사용자라면 에디트 플러스나 파이참(PyCharm), 노트패드++ 또는 서브라임 텍스트 3, 리눅스 사용자라면 당연히 vi 에디터를 추천한다. 물론 리눅스에는 이맥스라는 좋은 에디터가 있지만 초보자가 다루기는 쉽지 않다.\n",
    "\n",
    "다음에 여러 가지 에디터를 소개해 두었으니 읽어 보고 자신에게 맞는 에디터를 선택하자. 에디터를 선택하기 어렵다면 파이썬 프로그래밍을 처음 시작하기에 좋은 에디트 플러스를 추천한다.\n",
    "\n",
    "#### 에디트 플러스\n",
    "\n",
    "이 프로그램은 무료 소프트웨어가 아니기 때문에 평가판을 이용해야 한다. 다운로드 한 후부터 한 달간 사용할 수 있다. 에디트 플러스 공식 사이트 (http://www.editplus.com/kr) 에서 파일을 다운로드해 설치하자.\n",
    "\n",
    "#### 파이참\n",
    "\n",
    "파이썬에 어느 정도 익숙해졌다면 파이참(PyCharm)을 사용해 보기를 적극 추천한다. 파이참은 가장 유명한 파이썬 에디터 중 하나로 코드 작성 시 자동 완성, 문법 체크 등 편리한 기능들을 많이 제공한다.\n",
    "\n",
    "이 에디터는 파이참 공식 다운로드 사이트 (http://www.jetbrains.com/pycharm/download) 에서 다운로드할 수 있다.\n",
    "\n",
    "#### 노트패드++\n",
    "\n",
    "노트패드++도 많은 사람들이 추천하는 윈도우용 파이썬 에디터 중의 하나이다. 이 에디터는 노트패드++ 공식 다운로드 사이트 (https://notepad-plus-plus.org) 에서 다운로드할 수 있다.\n",
    "\n",
    "#### 서브라임 텍스트 3\n",
    "\n",
    "서브라임 텍스트 3 역시 파이썬 사용자에게 사랑받는 에디터 중의 하나로 심플하면서 세련된 사용자 인터페이스를 자랑한다. 이 에디터는 서브라임 텍스트 3 공식 다운로드 사이트 (http://www.sublimetext.com/3) 에서 다운로드할 수 있다."
   ]
  },
  {
   "cell_type": "markdown",
   "metadata": {},
   "source": [
    "### 에디터로 파이썬 프로그램 작성하기\n",
    "\n",
    "다음과 같은 프로그램을 에디터로 직접 작성해 보자."
   ]
  },
  {
   "cell_type": "code",
   "execution_count": 18,
   "metadata": {
    "collapsed": false
   },
   "outputs": [
    {
     "name": "stdout",
     "output_type": "stream",
     "text": [
      "Hello world\n"
     ]
    }
   ],
   "source": [
    "# hello.py\n",
    "print(\"Hello world\")"
   ]
  },
  {
   "cell_type": "markdown",
   "metadata": {},
   "source": [
    "위의 파일에서 # hello.py라는 문장은 주석이다. #으로 시작하는 문장은 #부터 시작해서 그 줄 끝까지 프로그램 수행에 전혀 영향을 주지 않는다. 주석은 프로그래머를 위한 것으로, 프로그램 소스에 설명문을 달 때 사용한다."
   ]
  },
  {
   "cell_type": "markdown",
   "metadata": {},
   "source": [
    "#### [여러줄짜리 주석문]\n",
    "주석문이 여러 줄인 경우 다음의 방법을 사용하면 편리하다.\n",
    "\n",
    "> \"\"\" <br>\n",
    "Author: EungYong Park <br>\n",
    "Date : 2016-01-01 <br> \n",
    "이 프로그램은 Hello World를 출력하는 프로그램이다. <br>\n",
    "\"\"\"\n",
    "\n",
    "여러 줄로 이루어진 주석을 작성하려면 큰따옴표 세 개를 연속으로 사용한 \"\"\" 기호 사이에 주석문을 작성하 면 된다. 큰따옴표 대신 작은따옴표 세 개를(''')를 사용해도 된다.\n"
   ]
  },
  {
   "cell_type": "markdown",
   "metadata": {},
   "source": [
    "앞에서와 같이 작성한 파일을 hello.py라는 이름으로 C:\\Python 디렉터리에 저장하자. 에디터로 파이썬 프로그램을 작성한 후 저장할 때는 파일 이름의 확장자명을 항상 py로 해야한다. py는 파이썬 파일임을 알려주는 관례적인 확장자명이다.\n",
    "\n",
    "이제 이 hello.py라는 프로그램을 실행시키기 위해 [윈도우+R -> cmd 입력 -> Enter]를 눌러 도스 창을 연다.\n",
    "\n",
    "hello.py라는 파일이 저장된 곳으로 이동한 후 다음과 같이 입력한다. 이 책에서는 hello.py 파일을 C:\\Python 디렉터리에 저장했다.\n",
    "\n",
    "> C:\\Users\\home>cd C:\\Python <br>\n",
    "C:\\Python>python hello.py <br>\n",
    "Hello World\n",
    "\n",
    "위와 같은 결과값을 볼 수 있을 것이다. 결과값이 위와 같지 않다면 hello.py 파일이 C:\\Python 디렉터리에 존재하는지 다시 한 번 살펴보도록 하자.\n",
    "\n",
    "이번 예제에서는 Hello world라는 문장을 출력하는 단순한 프로그램을 에디터로 작성했지만 보통 에디터로 작성하는 프로그램은 꽤 여러 줄로 이루어진다. 여기서 중요한 사실은 에디터로 만든 프로그램은 파일로 존재한다는 점이다. 대화형 인터프리터에서 만든 프로그램은 인터프리터를 종료함과 동시에 사라지지만 에디터로 만든 프로그램은 파일로 존재하기 때문에 언제든지 다시 사용할 수 있다.\n",
    "\n",
    "왜 대부분이 에디터를 이용해서 파이썬 프로그램을 작성하는지 이제 이해가 될 것이다."
   ]
  },
  {
   "cell_type": "markdown",
   "metadata": {},
   "source": [
    "#### [에디프 플러스로 파이썬 프로그램 쉽게 실행하기]\n",
    "\n",
    "에디트 플러스를 실행한 후 메뉴바에서 [도구 → 기본 설정]을 선택한 다음 [도구 → 사용자 도구]를 선택하면 다음과 같은 화면이 나타난다.\n",
    "\n",
    "위 화면처럼 내용이 채워지도록 다음과 같이 수정하자.\n",
    "\n",
    "`1.` [추가 → 프로그램]을 선택한다. <br>\n",
    "`2.` 메뉴 제목 : python3라고 입력한다. <br>\n",
    "`3.` 명령 : python이라고 입력한다. <br>\n",
    "`4.` 인수 : 오른쪽 버튼을 누르고 첫 번째 항목인 \"파일 경로\"를 선택한다. 입력창에 `$`(FilePath)가 자동으로 입력된다. <br>\n",
    "`5.` 디렉토리 : 오른쪽 버튼을 누르고 첫 번째 항목인 \"파일 디렉토리\"를 선택한다. 입력창에 `$`(FileDir)이 자동으로 입력된다. <br>\n",
    "`6.` 하단의 [적용] 버튼을 클릭하여 설정을 저장한다.\n",
    "\n",
    "이제 에디트 플러스로 hello.py와 같은 프로그램을 작성하고 저장한 후 Ctrl+1을 누르면 hello.py 프로그램이 자동으로 실행되는 것을 확인할 수 있다."
   ]
  },
  {
   "cell_type": "markdown",
   "metadata": {},
   "source": [
    "#### 파이썬 IDLE\n",
    "\n",
    "파이썬 IDLE(Intergrated Development and Learning Environment)는 파이썬 프로그램 작성을 도와주는 통합 개발환경으로 파이썬 설치시 기본으로 설치되는 프로그램이다. IDLE를 가지고 전문적인 파이썬 프로그램을 만들기에는 좀 부족하지만 파이썬 공부가 목적이라면 더할 나위없이 좋은 도구가 될 것이다.\n",
    "\n",
    "파이썬 IDLE를 실행 해 보자.\n",
    "\n",
    "[시작 -> 모든 프로그램 -> Python 3.5 -> IDLE 선택]\n",
    "\n",
    "그러면 다음과 같은 IDLE 셸(Shell) 창이 나타난다.\n",
    "\n",
    "IDLE는 크게 두가지 창으로 구성된다.\n",
    "\n",
    "- 셸 창(Shell Window) - 파이썬 셸(Python Shell)이 실행되는 창\n",
    "- 에디터 창(Editor Window) - 파이썬 에디터(Editor)가 실행되는 창\n",
    "\n",
    "IDLE 실행 시 가장 먼저 나타나는 창은 셸 창이다. 이 곳에서 파이썬 명령들을 수행하고 테스트 해 볼 수 있다.\n",
    "\n",
    "이번에는 IDLE 에디터(Editor)를 실행 해 보자.\n",
    "\n",
    "셸 창 메뉴에서 [File -> New File]을 선택하자.\n",
    "\n",
    "다음 그림과 같은 IDLE 에디터가 나타날 것이다.\n",
    "\n",
    "이제 다음과 같은 프로그램을 IDLE 에디터에서 직접 작성해 보자.\n",
    "\n",
    "> `#` hello_idle.py <br>\n",
    "> print(\"Hello IDLE\")\n",
    "\n",
    "이제 작성한 프로그램을 실행 해 보자.\n",
    "\n",
    "메뉴에서 [Run -> Run Module]을 선택하자. (단축키: F5)\n",
    "\n",
    "실행 해 보면 파일을 먼저 저장하라는 다음과 같은 다이얼로그가 나올것이다.\n",
    "\n",
    "\"확인\"을 선택하고 C:\\Python이라는 디렉터리에 hello_idle.py라는 이름으로 저장을 하도록 하자.\n",
    "\n",
    "파일을 저장하면 자동으로 파이썬 프로그램이 실행 된다. 실행 결과는 다음과 같이 IDLE 셸 창에 표시된다.\n",
    "\n",
    "프로그램을 재 실행하려면 에디터 창에서 F5키로 다시한번 실행하면 된다."
   ]
  },
  {
   "cell_type": "markdown",
   "metadata": {},
   "source": [
    "IDLE를 사용하면 자동완성(auto completion) 기능을 사용할 수 있다.\n",
    "\n",
    "IDLE 셸 창이나 에디터 창에서 다음과 같이 입력 해 보자.\n",
    "\n",
    "> pr + [Tab]\n",
    "\n",
    "pr로 시작하는 파이썬 키워드가 콤보박스 가장 상단에 표시될 것이다.\n",
    "\n",
    "print를 선택하고 (선택할 때는 스페이스바로 선택한다.) 다음과 같이 왼쪽 괄호만 입력 해 보자.\n",
    "\n",
    "> print(\n",
    "\n",
    "그러면 다음과 같이 print라는 함수의 도움말이 표시(call tips)되는 것을 볼 수 있다.\n",
    "\n",
    "파이썬 IDLE는 이 외에도 자동 들여쓰기, 코드를 컬러로 표시하기 등의 여러 유용한 기능들을 제공한다. 나머지 IDLE의 메뉴나 기타 기능들에 대해서는 IDLE를 사용하면서 차츰 익혀나가도록 하자.  "
   ]
  }
 ],
 "metadata": {
  "anaconda-cloud": {},
  "kernelspec": {
   "display_name": "Python [Root]",
   "language": "python",
   "name": "Python [Root]"
  },
  "language_info": {
   "codemirror_mode": {
    "name": "ipython",
    "version": 2
   },
   "file_extension": ".py",
   "mimetype": "text/x-python",
   "name": "python",
   "nbconvert_exporter": "python",
   "pygments_lexer": "ipython2",
   "version": "2.7.12"
  }
 },
 "nbformat": 4,
 "nbformat_minor": 0
}
